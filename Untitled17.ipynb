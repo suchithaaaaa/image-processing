{
 "cells": [
  {
   "cell_type": "code",
   "execution_count": 1,
   "metadata": {},
   "outputs": [
    {
     "ename": "RuntimeError",
     "evalue": "module compiled against API version 0x10 but this version of numpy is 0xd",
     "output_type": "error",
     "traceback": [
      "\u001b[1;31m---------------------------------------------------------------------------\u001b[0m",
      "\u001b[1;31mRuntimeError\u001b[0m                              Traceback (most recent call last)",
      "\u001b[1;31mRuntimeError\u001b[0m: module compiled against API version 0x10 but this version of numpy is 0xd"
     ]
    },
    {
     "name": "stderr",
     "output_type": "stream",
     "text": [
      "Could not import submodules (exact error was: numpy.core.multiarray failed to import).\n",
      "\n",
      "There are many reasons for this error the most common one is that you have\n",
      "either not built the packages or have built (using `python setup.py build`) or\n",
      "installed them (using `python setup.py install`) and then proceeded to test\n",
      "mahotas **without changing the current directory**.\n",
      "\n",
      "Try installing and then changing to another directory before importing mahotas.\n"
     ]
    },
    {
     "ename": "AttributeError",
     "evalue": "module 'mahotas' has no attribute 'imread'",
     "output_type": "error",
     "traceback": [
      "\u001b[1;31m---------------------------------------------------------------------------\u001b[0m",
      "\u001b[1;31mAttributeError\u001b[0m                            Traceback (most recent call last)",
      "\u001b[1;32m<ipython-input-1-5057bfd5a052>\u001b[0m in \u001b[0;36m<module>\u001b[1;34m\u001b[0m\n\u001b[0;32m      3\u001b[0m \u001b[1;32mimport\u001b[0m \u001b[0mpylab\u001b[0m\u001b[1;33m\u001b[0m\u001b[1;33m\u001b[0m\u001b[0m\n\u001b[0;32m      4\u001b[0m \u001b[1;33m\u001b[0m\u001b[0m\n\u001b[1;32m----> 5\u001b[1;33m \u001b[0mimg\u001b[0m \u001b[1;33m=\u001b[0m \u001b[0mmahotas\u001b[0m\u001b[1;33m.\u001b[0m\u001b[0mimread\u001b[0m\u001b[1;33m(\u001b[0m\u001b[1;34m'cats.jpg'\u001b[0m\u001b[1;33m)\u001b[0m\u001b[1;33m\u001b[0m\u001b[1;33m\u001b[0m\u001b[0m\n\u001b[0m\u001b[0;32m      6\u001b[0m \u001b[0mT_otsu\u001b[0m \u001b[1;33m=\u001b[0m \u001b[0mmahotas\u001b[0m\u001b[1;33m.\u001b[0m\u001b[0mthresholding\u001b[0m\u001b[1;33m.\u001b[0m\u001b[0motsu\u001b[0m\u001b[1;33m(\u001b[0m\u001b[0mimg\u001b[0m\u001b[1;33m)\u001b[0m\u001b[1;33m\u001b[0m\u001b[1;33m\u001b[0m\u001b[0m\n\u001b[0;32m      7\u001b[0m \u001b[0mseeds\u001b[0m\u001b[1;33m,\u001b[0m\u001b[0m_\u001b[0m \u001b[1;33m=\u001b[0m \u001b[0mmahotas\u001b[0m\u001b[1;33m.\u001b[0m\u001b[0mlabel\u001b[0m\u001b[1;33m(\u001b[0m\u001b[0mimg\u001b[0m \u001b[1;33m>\u001b[0m \u001b[0mT_otsu\u001b[0m\u001b[1;33m)\u001b[0m\u001b[1;33m\u001b[0m\u001b[1;33m\u001b[0m\u001b[0m\n",
      "\u001b[1;31mAttributeError\u001b[0m: module 'mahotas' has no attribute 'imread'"
     ]
    }
   ],
   "source": [
    "import numpy as np\n",
    "import mahotas\n",
    "import pylab\n",
    "\n",
    "img = mahotas.imread('cats.jpg')\n",
    "T_otsu = mahotas.thresholding.otsu(img)\n",
    "seeds,_ = mahotas.label(img > T_otsu)\n",
    "labeled = mahotas.cwatershed(img.max() - img, seeds)\n",
    "\n",
    "pylab.imshow(labeled)"
   ]
  },
  {
   "cell_type": "code",
   "execution_count": 4,
   "metadata": {},
   "outputs": [
    {
     "ename": "error",
     "evalue": "OpenCV(4.5.1) C:\\Users\\appveyor\\AppData\\Local\\Temp\\1\\pip-req-build-kh7iq4w7\\opencv\\modules\\highgui\\src\\window.cpp:376: error: (-215:Assertion failed) size.width>0 && size.height>0 in function 'cv::imshow'\n",
     "output_type": "error",
     "traceback": [
      "\u001b[1;31m---------------------------------------------------------------------------\u001b[0m",
      "\u001b[1;31merror\u001b[0m                                     Traceback (most recent call last)",
      "\u001b[1;32m<ipython-input-4-848ff094cbd2>\u001b[0m in \u001b[0;36m<module>\u001b[1;34m\u001b[0m\n\u001b[0;32m      9\u001b[0m \u001b[1;31m# Display original image\u001b[0m\u001b[1;33m\u001b[0m\u001b[1;33m\u001b[0m\u001b[1;33m\u001b[0m\u001b[0m\n\u001b[0;32m     10\u001b[0m \u001b[1;33m\u001b[0m\u001b[0m\n\u001b[1;32m---> 11\u001b[1;33m \u001b[0mcv2\u001b[0m\u001b[1;33m.\u001b[0m\u001b[0mimshow\u001b[0m\u001b[1;33m(\u001b[0m\u001b[1;34m'Original'\u001b[0m\u001b[1;33m,\u001b[0m \u001b[0mimg\u001b[0m\u001b[1;33m)\u001b[0m\u001b[1;33m\u001b[0m\u001b[1;33m\u001b[0m\u001b[0m\n\u001b[0m\u001b[0;32m     12\u001b[0m \u001b[1;33m\u001b[0m\u001b[0m\n\u001b[0;32m     13\u001b[0m \u001b[0mcv2\u001b[0m\u001b[1;33m.\u001b[0m\u001b[0mwaitKey\u001b[0m\u001b[1;33m(\u001b[0m\u001b[1;36m0\u001b[0m\u001b[1;33m)\u001b[0m\u001b[1;33m\u001b[0m\u001b[1;33m\u001b[0m\u001b[0m\n",
      "\u001b[1;31merror\u001b[0m: OpenCV(4.5.1) C:\\Users\\appveyor\\AppData\\Local\\Temp\\1\\pip-req-build-kh7iq4w7\\opencv\\modules\\highgui\\src\\window.cpp:376: error: (-215:Assertion failed) size.width>0 && size.height>0 in function 'cv::imshow'\n"
     ]
    }
   ],
   "source": [
    "import cv2\n",
    "\n",
    " \n",
    "\n",
    "# Read the original image\n",
    "\n",
    "img = cv2.imread('flower.jpg')\n",
    "\n",
    "# Display original image\n",
    "\n",
    "cv2.imshow('Original', img)\n",
    "\n",
    "cv2.waitKey(0)\n",
    "\n",
    " \n",
    "\n",
    "# Convert to graycsale\n",
    "\n",
    "img_gray = cv2.cvtColor(img, cv2.COLOR_BGR2GRAY)\n",
    "\n",
    "# Blur the image for better edge detection\n",
    "\n",
    "img_blur = cv2.GaussianBlur(img_gray, (3,3), 0)\n",
    "\n",
    " \n",
    "\n",
    "# Sobel Edge Detection\n",
    "\n",
    "sobelx = cv2.Sobel(src=img_blur, ddepth=cv2.CV_64F, dx=1, dy=0, ksize=5) # Sobel Edge Detection on the X axis\n",
    "\n",
    "sobely = cv2.Sobel(src=img_blur, ddepth=cv2.CV_64F, dx=0, dy=1, ksize=5) # Sobel Edge Detection on the Y axis\n",
    "\n",
    "sobelxy = cv2.Sobel(src=img_blur, ddepth=cv2.CV_64F, dx=1, dy=1, ksize=5) # Combined X and Y Sobel Edge Detection\n",
    "\n",
    "# Display Sobel Edge Detection Images\n",
    "\n",
    "cv2.imshow('Sobel X', sobelx)\n",
    "\n",
    "cv2.waitKey(0)\n",
    "\n",
    "cv2.imshow('Sobel Y', sobely)\n",
    "\n",
    "cv2.waitKey(0)\n",
    "\n",
    "cv2.imshow('Sobel X Y using Sobel() function', sobelxy)\n",
    "\n",
    "cv2.waitKey(0)\n",
    "\n",
    " \n",
    "\n",
    "# Canny Edge Detection\n",
    "\n",
    "edges = cv2.Canny(image=img_blur, threshold1=100, threshold2=200) # Canny Edge Detection\n",
    "\n",
    "# Display Canny Edge Detection Image\n",
    "\n",
    "cv2.imshow('Canny Edge Detection', edges)\n",
    "\n",
    "cv2.waitKey(0)\n",
    "\n",
    " \n",
    "\n",
    "cv2.destroyAllWindows()\n"
   ]
  },
  {
   "cell_type": "code",
   "execution_count": 6,
   "metadata": {},
   "outputs": [],
   "source": [
    "import cv2\n",
    "\n",
    " \n",
    "\n",
    "# Read the original image\n",
    "\n",
    "img = cv2.imread('cats.jpg')\n",
    "\n",
    "# Display original image\n",
    "\n",
    "cv2.imshow('Original', img)\n",
    "\n",
    "cv2.waitKey(0)\n",
    "\n",
    " \n",
    "\n",
    "# Convert to graycsale\n",
    "\n",
    "img_gray = cv2.cvtColor(img, cv2.COLOR_BGR2GRAY)\n",
    "\n",
    "# Blur the image for better edge detection\n",
    "\n",
    "img_blur = cv2.GaussianBlur(img_gray, (3,3), 0)\n",
    "\n",
    " \n",
    "\n",
    "# Sobel Edge Detection\n",
    "\n",
    "sobelx = cv2.Sobel(src=img_blur, ddepth=cv2.CV_64F, dx=1, dy=0, ksize=5) # Sobel Edge Detection on the X axis\n",
    "\n",
    "sobely = cv2.Sobel(src=img_blur, ddepth=cv2.CV_64F, dx=0, dy=1, ksize=5) # Sobel Edge Detection on the Y axis\n",
    "\n",
    "sobelxy = cv2.Sobel(src=img_blur, ddepth=cv2.CV_64F, dx=1, dy=1, ksize=5) # Combined X and Y Sobel Edge Detection\n",
    "\n",
    "# Display Sobel Edge Detection Images\n",
    "\n",
    "cv2.imshow('Sobel X', sobelx)\n",
    "\n",
    "cv2.waitKey(0)\n",
    "\n",
    "cv2.imshow('Sobel Y', sobely)\n",
    "\n",
    "cv2.waitKey(0)\n",
    "\n",
    "cv2.imshow('Sobel X Y using Sobel() function', sobelxy)\n",
    "\n",
    "cv2.waitKey(0)\n",
    "\n",
    " \n",
    "\n",
    "# Canny Edge Detection\n",
    "\n",
    "edges = cv2.Canny(image=img_blur, threshold1=100, threshold2=200) # Canny Edge Detection\n",
    "\n",
    "# Display Canny Edge Detection Image\n",
    "\n",
    "cv2.imshow('Canny Edge Detection', edges)\n",
    "\n",
    "cv2.waitKey(0)\n",
    "\n",
    " \n",
    "\n",
    "cv2.destroyAllWindows()\n"
   ]
  },
  {
   "cell_type": "code",
   "execution_count": 7,
   "metadata": {},
   "outputs": [
    {
     "ename": "TypeError",
     "evalue": "GaussianBlur() missing required argument 'sigmaX' (pos 3)",
     "output_type": "error",
     "traceback": [
      "\u001b[1;31m---------------------------------------------------------------------------\u001b[0m",
      "\u001b[1;31mTypeError\u001b[0m                                 Traceback (most recent call last)",
      "\u001b[1;32m<ipython-input-7-852031e0705b>\u001b[0m in \u001b[0;36m<module>\u001b[1;34m\u001b[0m\n\u001b[0;32m      4\u001b[0m \u001b[1;31m# Blur the image for better edge detection\u001b[0m\u001b[1;33m\u001b[0m\u001b[1;33m\u001b[0m\u001b[1;33m\u001b[0m\u001b[0m\n\u001b[0;32m      5\u001b[0m \u001b[1;33m\u001b[0m\u001b[0m\n\u001b[1;32m----> 6\u001b[1;33m \u001b[0mimg_blur\u001b[0m \u001b[1;33m=\u001b[0m \u001b[0mcv2\u001b[0m\u001b[1;33m.\u001b[0m\u001b[0mGaussianBlur\u001b[0m\u001b[1;33m(\u001b[0m\u001b[0mimg\u001b[0m\u001b[1;33m,\u001b[0m\u001b[1;33m(\u001b[0m\u001b[1;36m3\u001b[0m\u001b[1;33m,\u001b[0m\u001b[1;36m3\u001b[0m\u001b[1;33m)\u001b[0m\u001b[1;33m,\u001b[0m \u001b[0mSigmaX\u001b[0m\u001b[1;33m=\u001b[0m\u001b[1;36m0\u001b[0m\u001b[1;33m,\u001b[0m \u001b[0mSigmaY\u001b[0m\u001b[1;33m=\u001b[0m\u001b[1;36m0\u001b[0m\u001b[1;33m)\u001b[0m\u001b[1;33m\u001b[0m\u001b[1;33m\u001b[0m\u001b[0m\n\u001b[0m",
      "\u001b[1;31mTypeError\u001b[0m: GaussianBlur() missing required argument 'sigmaX' (pos 3)"
     ]
    }
   ],
   "source": [
    "# Read the original image\n",
    "img = cv2.imread('cats.jpg',flags=0) \n",
    "\n",
    "# Blur the image for better edge detection\n",
    "\n",
    "img_blur = cv2.GaussianBlur(img,(3,3), SigmaX=0, SigmaY=0)\n"
   ]
  },
  {
   "cell_type": "code",
   "execution_count": 8,
   "metadata": {},
   "outputs": [
    {
     "data": {
      "text/plain": [
       "-1"
      ]
     },
     "execution_count": 8,
     "metadata": {},
     "output_type": "execute_result"
    }
   ],
   "source": [
    "# Sobel Edge Detection\n",
    "\n",
    "sobelx = cv2.Sobel(src=img_blur, ddepth=cv2.CV_64F, dx=1, dy=0, ksize=5) # Sobel Edge Detection on the X axis\n",
    "\n",
    "sobely = cv2.Sobel(src=img_blur, ddepth=cv2.CV_64F, dx=0, dy=1, ksize=5) # Sobel Edge Detection on the Y axis\n",
    "\n",
    "sobelxy = cv2.Sobel(src=img_blur, ddepth=cv2.CV_64F, dx=1, dy=1, ksize=5) # Combined X and Y Sobel Edge Detection\n",
    "\n",
    " \n",
    "\n",
    "# Display Sobel Edge Detection Images\n",
    "\n",
    "cv2.imshow('Sobel X', sobelx)\n",
    "\n",
    "cv2.waitKey(0)\n",
    "\n",
    " \n",
    "\n",
    "cv2.imshow('Sobel Y', sobely)\n",
    "\n",
    "cv2.waitKey(0)\n",
    "\n",
    " \n",
    "\n",
    "cv2.imshow('Sobel X Y using Sobel() function', sobelxy)\n",
    "\n",
    "cv2.waitKey(0)\n"
   ]
  },
  {
   "cell_type": "code",
   "execution_count": 9,
   "metadata": {},
   "outputs": [
    {
     "data": {
      "text/plain": [
       "-1"
      ]
     },
     "execution_count": 9,
     "metadata": {},
     "output_type": "execute_result"
    }
   ],
   "source": [
    "# Canny Edge Detection\n",
    "\n",
    "edges = cv2.Canny(image=img_blur, threshold1=100, threshold2=200)\n",
    "\n",
    " \n",
    "\n",
    "# Display Canny Edge Detection Image\n",
    "\n",
    "cv2.imshow('Canny Edge Detection', edges)\n",
    "\n",
    "cv2.waitKey(0)\n"
   ]
  },
  {
   "cell_type": "code",
   "execution_count": null,
   "metadata": {},
   "outputs": [],
   "source": []
  }
 ],
 "metadata": {
  "kernelspec": {
   "display_name": "Python 3",
   "language": "python",
   "name": "python3"
  },
  "language_info": {
   "codemirror_mode": {
    "name": "ipython",
    "version": 3
   },
   "file_extension": ".py",
   "mimetype": "text/x-python",
   "name": "python",
   "nbconvert_exporter": "python",
   "pygments_lexer": "ipython3",
   "version": "3.8.5"
  }
 },
 "nbformat": 4,
 "nbformat_minor": 4
}
